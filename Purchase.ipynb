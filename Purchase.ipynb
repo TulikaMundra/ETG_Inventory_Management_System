{
 "cells": [
  {
   "cell_type": "code",
   "execution_count": null,
   "metadata": {},
   "outputs": [],
   "source": [
    "#Fetching the data from prod_data.json file and again storing it into prod_data dictionary\n",
    "import time\n",
    "import json\n",
    "fd = open(\"records.json\",\"r\")\n",
    "txt = fd.read()\n",
    "fd.close()\n",
    "prod_data = json.loads(txt)"
   ]
  },
  {
   "cell_type": "code",
   "execution_count": null,
   "metadata": {},
   "outputs": [],
   "source": [
    "print(\"List of books in data :-\")\n",
    "print(\"*********************************\")\n",
    "for book in prod_data:\n",
    "    print(prod_data[book]['Book name'],\": ID =\",book)"
   ]
  },
  {
   "cell_type": "code",
   "execution_count": null,
   "metadata": {
    "scrolled": false
   },
   "outputs": [],
   "source": [
    "ui_input= int(input(\"How many Books you want to purchase \"))\n",
    "count=0\n",
    "sum=0\n",
    "while(count<ui_input):\n",
    "    count+=1\n",
    "    ui_prodID =input(\"Enter the id of Book you want to purhase: \")\n",
    "\n",
    "    print('***********************************')\n",
    "    print('Book Name:',prod_data[ui_prodID]['Book name'],'BY-',prod_data[ui_prodID]['author'])\n",
    "    print('Cost:',prod_data[ui_prodID]['cost'],'Rs/-')\n",
    "\n",
    "\n",
    "    print('***********************************')\n",
    "   \n",
    "\n",
    "    ui_quantity=int(input(\"Enter the quantity you want to purchase-\"))\n",
    "    ui_name=(input(\"Enter your name: \"))\n",
    "    ui_cost= prod_data[ui_prodID]['cost']*ui_quantity\n",
    "\n",
    "    if(ui_quantity<prod_data[ui_prodID]['quantity']):\n",
    "        prod_data[ui_prodID]['quantity']-=ui_quantity\n",
    "        print('you have purchased',ui_quantity,'Books of',prod_data[ui_prodID]['Book name'])\n",
    "        print('Name:',ui_name)\n",
    "        print('-----------------------------------')\n",
    "        print('Billing Amount is:',ui_cost ,'Rs/-')\n",
    "        print('-----------------------------------')\n",
    "      \n",
    "    \n",
    "        sum+=ui_cost\n",
    "      \n",
    "         \n",
    "\n",
    "    else:\n",
    "        print('sorry!The Book is out of stock')\n",
    "        print('The available quantity of book is-',prod_data[ui_prodID]['quantity'])\n",
    "\n",
    "time.time()\n",
    "day=time.ctime(time.time())\n",
    "print('Date-',day)\n",
    "print('xxxxxxxxxxxxxxxxxxxxxxxxxxxx')\n",
    "print(\"Total Sales-\",sum,'Rs/-')\n",
    "print('xxxxxxxxxxxxxxxxxxxxxxxxxxxx')\n",
    "   "
   ]
  },
  {
   "cell_type": "code",
   "execution_count": null,
   "metadata": {},
   "outputs": [],
   "source": [
    "# Stores the updated data into records.json file\n",
    "js=json.dumps(prod_data)\n",
    "fd=open(\"records.json\",'w')\n",
    "fd.write(js)\n",
    "fd.close()"
   ]
  },
  {
   "cell_type": "code",
   "execution_count": null,
   "metadata": {
    "scrolled": true
   },
   "outputs": [],
   "source": [
    "# code to calculate sales on a particular date and time\n",
    "\n",
    "fd = open(\"sales.json\",\"r\")\n",
    "txt1 = fd.read()\n",
    "fd.close()\n",
    "saleList = json.loads(txt1)\n",
    "\n",
    "time.time()\n",
    "saleList[time.ctime(time.time())] = sum\n",
    "\n"
   ]
  },
  {
   "cell_type": "code",
   "execution_count": null,
   "metadata": {},
   "outputs": [],
   "source": [
    "for i in saleList:\n",
    "    print('Total sales on',i,saleList[i],'Rs/-')"
   ]
  },
  {
   "cell_type": "code",
   "execution_count": null,
   "metadata": {},
   "outputs": [],
   "source": [
    "# Stores the sales in the sales.json file\n",
    "sales=json.dumps(saleList)\n",
    "fd=open(\"sales.json\",'w')\n",
    "fd.write(sales)\n",
    "fd.close()"
   ]
  },
  {
   "cell_type": "code",
   "execution_count": null,
   "metadata": {},
   "outputs": [],
   "source": []
  }
 ],
 "metadata": {
  "kernelspec": {
   "display_name": "Python 3",
   "language": "python",
   "name": "python3"
  },
  "language_info": {
   "codemirror_mode": {
    "name": "ipython",
    "version": 3
   },
   "file_extension": ".py",
   "mimetype": "text/x-python",
   "name": "python",
   "nbconvert_exporter": "python",
   "pygments_lexer": "ipython3",
   "version": "3.7.4"
  }
 },
 "nbformat": 4,
 "nbformat_minor": 2
}
