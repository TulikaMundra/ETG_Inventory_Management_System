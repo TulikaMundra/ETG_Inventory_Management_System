{
 "cells": [
  {
   "cell_type": "markdown",
   "metadata": {},
   "source": [
    "# Add new books to the inventory"
   ]
  },
  {
   "cell_type": "code",
   "execution_count": null,
   "metadata": {},
   "outputs": [],
   "source": [
    "import json\n",
    "fd = open(\"records.json\",\"r\")\n",
    "txt = fd.read()\n",
    "fd.close()\n",
    "prod_data = json.loads(txt)"
   ]
  },
  {
   "cell_type": "code",
   "execution_count": null,
   "metadata": {},
   "outputs": [],
   "source": [
    "print(\"List of books in data :-\")\n",
    "print(\"*********************************\")\n",
    "for book in prod_data:\n",
    "    print(prod_data[book]['Book name'],\": ID =\",book)"
   ]
  },
  {
   "cell_type": "code",
   "execution_count": null,
   "metadata": {},
   "outputs": [],
   "source": [
    "b_id = input(\"Enter the id : \")\n",
    "b_name = input(\"Enter the name of book : \")\n",
    "b_author = input(\"Enter name of the author : \")\n",
    "b_cost = int(input(\"Enter cost : \"))\n",
    "b_qn = int(input(\"Enter quantity : \"))\n",
    "\n",
    "\n",
    "prod_data[b_id] = {'Book name':b_name,'cost':b_cost,'quantity':b_qn,'author':b_author}"
   ]
  },
  {
   "cell_type": "code",
   "execution_count": null,
   "metadata": {},
   "outputs": [],
   "source": [
    "js=json.dumps(prod_data)\n",
    "fd=open(\"records.json\",'w')\n",
    "fd.write(js)\n",
    "fd.close()"
   ]
  },
  {
   "cell_type": "code",
   "execution_count": null,
   "metadata": {},
   "outputs": [],
   "source": []
  }
 ],
 "metadata": {
  "kernelspec": {
   "display_name": "Python 3",
   "language": "python",
   "name": "python3"
  },
  "language_info": {
   "codemirror_mode": {
    "name": "ipython",
    "version": 3
   },
   "file_extension": ".py",
   "mimetype": "text/x-python",
   "name": "python",
   "nbconvert_exporter": "python",
   "pygments_lexer": "ipython3",
   "version": "3.7.4"
  }
 },
 "nbformat": 4,
 "nbformat_minor": 2
}
